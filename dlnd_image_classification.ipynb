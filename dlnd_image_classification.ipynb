{
 "cells": [
  {
   "cell_type": "markdown",
   "metadata": {
    "collapsed": true
   },
   "source": [
    "# Image Classification\n",
    "In this project, you'll classify images from the [CIFAR-10 dataset](https://www.cs.toronto.edu/~kriz/cifar.html).  The dataset consists of airplanes, dogs, cats, and other objects. You'll preprocess the images, then train a convolutional neural network on all the samples. The images need to be normalized and the labels need to be one-hot encoded.  You'll get to apply what you learned and build a convolutional, max pooling, dropout, and fully connected layers.  At the end, you'll get to see your neural network's predictions on the sample images.\n",
    "## Get the Data\n",
    "Run the following cell to download the [CIFAR-10 dataset for python](https://www.cs.toronto.edu/~kriz/cifar-10-python.tar.gz)."
   ]
  },
  {
   "cell_type": "code",
   "execution_count": 1,
   "metadata": {},
   "outputs": [
    {
     "name": "stdout",
     "output_type": "stream",
     "text": [
      "All files found!\n"
     ]
    }
   ],
   "source": [
    "\"\"\"\n",
    "DON'T MODIFY ANYTHING IN THIS CELL THAT IS BELOW THIS LINE\n",
    "\"\"\"\n",
    "from urllib.request import urlretrieve\n",
    "from os.path import isfile, isdir\n",
    "from tqdm import tqdm\n",
    "import problem_unittests as tests\n",
    "import tarfile\n",
    "\n",
    "cifar10_dataset_folder_path = 'cifar-10-batches-py'\n",
    "\n",
    "# Use Floyd's cifar-10 dataset if present\n",
    "floyd_cifar10_location = '/cifar/cifar-10-python.tar.gz'\n",
    "if isfile(floyd_cifar10_location):\n",
    "    tar_gz_path = floyd_cifar10_location\n",
    "else:\n",
    "    tar_gz_path = 'cifar-10-python.tar.gz'\n",
    "\n",
    "class DLProgress(tqdm):\n",
    "    last_block = 0\n",
    "\n",
    "    def hook(self, block_num=1, block_size=1, total_size=None):\n",
    "        self.total = total_size\n",
    "        self.update((block_num - self.last_block) * block_size)\n",
    "        self.last_block = block_num\n",
    "\n",
    "if not isfile(tar_gz_path):\n",
    "    with DLProgress(unit='B', unit_scale=True, miniters=1, desc='CIFAR-10 Dataset') as pbar:\n",
    "        urlretrieve(\n",
    "            'https://www.cs.toronto.edu/~kriz/cifar-10-python.tar.gz',\n",
    "            tar_gz_path,\n",
    "            pbar.hook)\n",
    "\n",
    "if not isdir(cifar10_dataset_folder_path):\n",
    "    with tarfile.open(tar_gz_path) as tar:\n",
    "        tar.extractall()\n",
    "        tar.close()\n",
    "\n",
    "\n",
    "tests.test_folder_path(cifar10_dataset_folder_path)"
   ]
  },
  {
   "cell_type": "markdown",
   "metadata": {},
   "source": [
    "## Explore the Data\n",
    "The dataset is broken into batches to prevent your machine from running out of memory.  The CIFAR-10 dataset consists of 5 batches, named `data_batch_1`, `data_batch_2`, etc.. Each batch contains the labels and images that are one of the following:\n",
    "* airplane\n",
    "* automobile\n",
    "* bird\n",
    "* cat\n",
    "* deer\n",
    "* dog\n",
    "* frog\n",
    "* horse\n",
    "* ship\n",
    "* truck\n",
    "\n",
    "Understanding a dataset is part of making predictions on the data.  Play around with the code cell below by changing the `batch_id` and `sample_id`. The `batch_id` is the id for a batch (1-5). The `sample_id` is the id for a image and label pair in the batch.\n",
    "\n",
    "Ask yourself \"What are all possible labels?\", \"What is the range of values for the image data?\", \"Are the labels in order or random?\".  Answers to questions like these will help you preprocess the data and end up with better predictions."
   ]
  },
  {
   "cell_type": "code",
   "execution_count": 2,
   "metadata": {},
   "outputs": [
    {
     "name": "stdout",
     "output_type": "stream",
     "text": [
      "\n",
      "Stats of batch 5:\n",
      "Samples: 10000\n",
      "Label Counts: {0: 1014, 1: 1014, 2: 952, 3: 1016, 4: 997, 5: 1025, 6: 980, 7: 977, 8: 1003, 9: 1022}\n",
      "First 20 Labels: [1, 8, 5, 1, 5, 7, 4, 3, 8, 2, 7, 2, 0, 1, 5, 9, 6, 2, 0, 8]\n",
      "\n",
      "Example of Image 15:\n",
      "Image - Min Value: 8 Max Value: 236\n",
      "Image - Shape: (32, 32, 3)\n",
      "Label - Label Id: 9 Name: truck\n"
     ]
    },
    {
     "data": {
      "image/png": "[encoded data removed]",
      "text/plain": [
       "<matplotlib.figure.Figure at 0x7f37bbb28fd0>"
      ]
     },
     "metadata": {
      "image/png": {
       "height": 250,
       "width": 253
      }
     },
     "output_type": "display_data"
    }
   ],
   "source": [
    "%matplotlib inline\n",
    "%config InlineBackend.figure_format = 'retina'\n",
    "\n",
    "import helper\n",
    "import numpy as np\n",
    "\n",
    "# Explore the dataset\n",
    "batch_id = 5\n",
    "sample_id = 15\n",
    "helper.display_stats(cifar10_dataset_folder_path, batch_id, sample_id)"
   ]
  },
  {
   "cell_type": "markdown",
   "metadata": {},
   "source": [
    "### Observations\n",
    "\n",
    "1. The image shape is (32, 32, 3), that is, it is a square with a 32-pixel side and RGB layers.\n",
    "2. There are 10 possible labels, signified by integers 0-9.\n",
    "3. Each batch of 10000 samples is split roughly evently into the 10 labels, around 1000 of each.\n",
    "4. The labels appear to be randomized already, which is good.\n",
    "5. Pixel values are in the range [0, 255], so they will need to be normalized."
   ]
  },
  {
   "cell_type": "markdown",
   "metadata": {},
   "source": [
    "## Implement Preprocess Functions"
   ]
  },
  {
   "cell_type": "code",
   "execution_count": 3,
   "metadata": {
    "collapsed": true
   },
   "outputs": [],
   "source": [
    "import tensorflow as tf"
   ]
  },
  {
   "cell_type": "markdown",
   "metadata": {},
   "source": [
    "### Normalize\n",
    "In the cell below, implement the `normalize` function to take in image data, `x`, and return it as a normalized Numpy array. The values should be in the range of 0 to 1, inclusive.  The return object should be the same shape as `x`."
   ]
  },
  {
   "cell_type": "code",
   "execution_count": 4,
   "metadata": {},
   "outputs": [
    {
     "name": "stdout",
     "output_type": "stream",
     "text": [
      "Tests Passed\n"
     ]
    }
   ],
   "source": [
    "def normalize(x):\n",
    "    \"\"\"\n",
    "    Normalize a list of sample image data in the range of 0 to 1\n",
    "    : x: List of image data.  The image shape is (32, 32, 3)\n",
    "    : return: Numpy array of normalize data\n",
    "    \"\"\"\n",
    "    # Implement Function\n",
    "    return x/255\n",
    "\n",
    "\n",
    "\"\"\"\n",
    "DON'T MODIFY ANYTHING IN THIS CELL THAT IS BELOW THIS LINE\n",
    "\"\"\"\n",
    "tests.test_normalize(normalize)"
   ]
  },
  {
   "cell_type": "markdown",
   "metadata": {},
   "source": [
    "### One-hot encode\n",
    "Just like the previous code cell, you'll be implementing a function for preprocessing.  This time, you'll implement the `one_hot_encode` function. The input, `x`, is a list of labels.  Implement the function to return the list of labels as One-Hot encoded Numpy array.  The possible values for labels are 0 to 9. The one-hot encoding function should return the same encoding for each value between each call to `one_hot_encode`.  Make sure to save the map of encodings outside the function.\n",
    "\n",
    "Hint: Don't reinvent the wheel."
   ]
  },
  {
   "cell_type": "markdown",
   "metadata": {},
   "source": [
    "> <font color=\"red\">**Note:** Not sure what is wanted here and why.</font>"
   ]
  },
  {
   "cell_type": "code",
   "execution_count": 5,
   "metadata": {},
   "outputs": [
    {
     "name": "stdout",
     "output_type": "stream",
     "text": [
      "Tests Passed\n"
     ]
    }
   ],
   "source": [
    "def one_hot_encode(x):\n",
    "    \"\"\"\n",
    "    One hot encode a list of sample labels. Return a one-hot encoded vector for each label.\n",
    "    : x: List of sample Labels\n",
    "    : return: Numpy array of one-hot encoded labels\n",
    "    \"\"\"\n",
    "    # Implement Function\n",
    "    one_hot_array = np.zeros((len(x), 10))\n",
    "    for i, l in enumerate(x):\n",
    "        one_hot_array[i, l] = 1\n",
    "    return one_hot_array\n",
    "\n",
    "\"\"\"\n",
    "DON'T MODIFY ANYTHING IN THIS CELL THAT IS BELOW THIS LINE\n",
    "\"\"\"\n",
    "tests.test_one_hot_encode(one_hot_encode)"
   ]
  },
  {
   "cell_type": "markdown",
   "metadata": {},
   "source": [
    "### Randomize Data\n",
    "As you saw from exploring the data above, the order of the samples are randomized.  It doesn't hurt to randomize it again, but you don't need to for this dataset."
   ]
  },
  {
   "cell_type": "markdown",
   "metadata": {},
   "source": [
    "## Preprocess all the data and save it\n",
    "Running the code cell below will preprocess all the CIFAR-10 data and save it to file. The code below also uses 10% of the training data for validation."
   ]
  },
  {
   "cell_type": "code",
   "execution_count": 6,
   "metadata": {
    "collapsed": true
   },
   "outputs": [],
   "source": [
    "\"\"\"\n",
    "DON'T MODIFY ANYTHING IN THIS CELL\n",
    "\"\"\"\n",
    "# Preprocess Training, Validation, and Testing Data\n",
    "helper.preprocess_and_save_data(cifar10_dataset_folder_path, normalize, one_hot_encode)"
   ]
  },
  {
   "cell_type": "markdown",
   "metadata": {},
   "source": [
    "# Check Point\n",
    "This is your first checkpoint.  If you ever decide to come back to this notebook or have to restart the notebook, you can start from here.  The preprocessed data has been saved to disk."
   ]
  },
  {
   "cell_type": "code",
   "execution_count": 7,
   "metadata": {
    "collapsed": true
   },
   "outputs": [],
   "source": [
    "\"\"\"\n",
    "DON'T MODIFY ANYTHING IN THIS CELL\n",
    "\"\"\"\n",
    "import pickle\n",
    "import problem_unittests as tests\n",
    "import helper\n",
    "\n",
    "# Load the Preprocessed Validation data\n",
    "valid_features, valid_labels = pickle.load(open('preprocess_validation.p', mode='rb'))"
   ]
  },
  {
   "cell_type": "markdown",
   "metadata": {},
   "source": [
    "## Build the network\n",
    "For the neural network, you'll build each layer into a function.  Most of the code you've seen has been outside of functions. To test your code more thoroughly, we require that you put each layer in a function.  This allows us to give you better feedback and test for simple mistakes using our unittests before you submit your project.\n",
    "\n",
    ">**Note:** If you're finding it hard to dedicate enough time for this course each week, we've provided a small shortcut to this part of the project. In the next couple of problems, you'll have the option to use classes from the [TensorFlow Layers](https://www.tensorflow.org/api_docs/python/tf/layers) or [TensorFlow Layers (contrib)](https://www.tensorflow.org/api_guides/python/contrib.layers) packages to build each layer, except the layers you build in the \"Convolutional and Max Pooling Layer\" section.  TF Layers is similar to Keras's and TFLearn's abstraction to layers, so it's easy to pickup.\n",
    "\n",
    ">However, if you would like to get the most out of this course, try to solve all the problems _without_ using anything from the TF Layers packages. You **can** still use classes from other packages that happen to have the same name as ones you find in TF Layers! For example, instead of using the TF Layers version of the `conv2d` class, [tf.layers.conv2d](https://www.tensorflow.org/api_docs/python/tf/layers/conv2d), you would want to use the TF Neural Network version of `conv2d`, [tf.nn.conv2d](https://www.tensorflow.org/api_docs/python/tf/nn/conv2d). \n",
    "\n",
    "Let's begin!\n",
    "\n",
    "### Input\n",
    "The neural network needs to read the image data, one-hot encoded labels, and dropout keep probability. Implement the following functions\n",
    "* Implement `neural_net_image_input`\n",
    " * Return a [TF Placeholder](https://www.tensorflow.org/api_docs/python/tf/placeholder)\n",
    " * Set the shape using `image_shape` with batch size set to `None`.\n",
    " * Name the TensorFlow placeholder \"x\" using the TensorFlow `name` parameter in the [TF Placeholder](https://www.tensorflow.org/api_docs/python/tf/placeholder).\n",
    "* Implement `neural_net_label_input`\n",
    " * Return a [TF Placeholder](https://www.tensorflow.org/api_docs/python/tf/placeholder)\n",
    " * Set the shape using `n_classes` with batch size set to `None`.\n",
    " * Name the TensorFlow placeholder \"y\" using the TensorFlow `name` parameter in the [TF Placeholder](https://www.tensorflow.org/api_docs/python/tf/placeholder).\n",
    "* Implement `neural_net_keep_prob_input`\n",
    " * Return a [TF Placeholder](https://www.tensorflow.org/api_docs/python/tf/placeholder) for dropout keep probability.\n",
    " * Name the TensorFlow placeholder \"keep_prob\" using the TensorFlow `name` parameter in the [TF Placeholder](https://www.tensorflow.org/api_docs/python/tf/placeholder).\n",
    "\n",
    "These names will be used at the end of the project to load your saved model.\n",
    "\n",
    "Note: `None` for shapes in TensorFlow allow for a dynamic size."
   ]
  },
  {
   "cell_type": "code",
   "execution_count": 8,
   "metadata": {},
   "outputs": [
    {
     "name": "stdout",
     "output_type": "stream",
     "text": [
      "Image Input Tests Passed.\n",
      "Label Input Tests Passed.\n",
      "Keep Prob Tests Passed.\n"
     ]
    }
   ],
   "source": [
    "def neural_net_image_input(image_shape):\n",
    "    \"\"\"\n",
    "    Return a Tensor for a batch of image input\n",
    "    : image_shape: Shape of the images\n",
    "    : return: Tensor for image input.\n",
    "    \"\"\"\n",
    "    # Implement Function\n",
    "\n",
    "    return tf.placeholder(tf.float32, \n",
    "                          [None, \n",
    "                           image_shape[0], \n",
    "                           image_shape[1], \n",
    "                           image_shape[2]\n",
    "                          ], name='x')\n",
    "\n",
    "\n",
    "def neural_net_label_input(n_classes):\n",
    "    \"\"\"\n",
    "    Return a Tensor for a batch of label input\n",
    "    : n_classes: Number of classes\n",
    "    : return: Tensor for label input.\n",
    "    \"\"\"\n",
    "    # Implement Function\n",
    "    \n",
    "    return tf.placeholder(tf.float32, [None, n_classes], name='y')\n",
    "\n",
    "\n",
    "def neural_net_keep_prob_input():\n",
    "    \"\"\"\n",
    "    Return a Tensor for keep probability\n",
    "    : return: Tensor for keep probability.\n",
    "    \"\"\"\n",
    "    # Implement Function\n",
    "    \n",
    "    return tf.placeholder(tf.float32, name='keep_prob')\n",
    "\n",
    "\n",
    "\"\"\"\n",
    "DON'T MODIFY ANYTHING IN THIS CELL THAT IS BELOW THIS LINE\n",
    "\"\"\"\n",
    "tf.reset_default_graph()\n",
    "tests.test_nn_image_inputs(neural_net_image_input)\n",
    "tests.test_nn_label_inputs(neural_net_label_input)\n",
    "tests.test_nn_keep_prob_inputs(neural_net_keep_prob_input)"
   ]
  },
  {
   "cell_type": "markdown",
   "metadata": {},
   "source": [
    "### Convolution and Max Pooling Layer\n",
    "Convolution layers have a lot of success with images. For this code cell, you should implement the function `conv2d_maxpool` to apply convolution then max pooling:\n",
    "* Create the weight and bias using `conv_ksize`, `conv_num_outputs` and the shape of `x_tensor`.\n",
    "* Apply a convolution to `x_tensor` using weight and `conv_strides`.\n",
    " * We recommend you use `'SAME'` padding, but you're welcome to use any padding.\n",
    "* Add bias\n",
    "* Add a nonlinear activation to the convolution.\n",
    "* Apply Max Pooling using `pool_ksize` and `pool_strides`.\n",
    " * We recommend you use `'SAME'` padding, but you're welcome to use any padding.\n",
    "\n",
    "**Note:** You **can't** use [TensorFlow Layers](https://www.tensorflow.org/api_docs/python/tf/layers) or [TensorFlow Layers (contrib)](https://www.tensorflow.org/api_guides/python/contrib.layers) for **this** layer, but you can still use TensorFlow's [Neural Network](https://www.tensorflow.org/api_docs/python/tf/nn) package. You may still use the shortcut option for all the **other** layers."
   ]
  },
  {
   "cell_type": "code",
   "execution_count": 15,
   "metadata": {},
   "outputs": [
    {
     "name": "stdout",
     "output_type": "stream",
     "text": [
      "Tests Passed\n"
     ]
    }
   ],
   "source": [
    "def conv2d_maxpool(x_tensor, conv_num_outputs, conv_ksize, conv_strides, pool_ksize, pool_strides):\n",
    "    \"\"\"\n",
    "    Apply convolution then max pooling to x_tensor\n",
    "    :param x_tensor: TensorFlow Tensor\n",
    "    :param conv_num_outputs: Number of outputs for the convolutional layer\n",
    "    :param conv_ksize: kernel size 2-D Tuple for the convolutional layer\n",
    "    :param conv_strides: Stride 2-D Tuple for convolution\n",
    "    :param pool_ksize: kernel size 2-D Tuple for pool\n",
    "    :param pool_strides: Stride 2-D Tuple for pool\n",
    "    : return: A tensor that represents convolution and max pooling of x_tensor\n",
    "    \"\"\"\n",
    "    # TODO: Implement Function\n",
    "    # 1. Declare convolution weights and bias\n",
    "    # Note: To get the depth of the input tensor as an integer, use \n",
    "    # tf.cast(x.get_shape()[3], tf.int32)\n",
    "    # or \n",
    "    # x.get_shape().as_list()[3]\n",
    "    conv_weights = tf.Variable(tf.random_normal([conv_ksize[0], \n",
    "                                                 conv_ksize[1],\n",
    "#                                                  tf.cast(x_tensor.get_shape()[3], dtype=tf.int32), # x_tensor depth\n",
    "                                                 x_tensor.get_shape().as_list()[3], # x_tensor depth\n",
    "                                                 conv_num_outputs], stddev=0.05))\n",
    "    \n",
    "    conv_bias = tf.Variable(tf.zeros([conv_num_outputs]))\n",
    "    \n",
    "    # 2. Apply 2D convolution\n",
    "    conv2d_pool = tf.nn.conv2d(x_tensor, \n",
    "                               conv_weights, \n",
    "                               strides=[1, conv_strides[0], conv_strides[1], 1], \n",
    "                               padding='SAME')\n",
    "    \n",
    "    # 3. Add bias\n",
    "    conv2d_pool = tf.nn.bias_add(conv2d_pool, conv_bias)\n",
    "    \n",
    "    # 4. Pass through nonlinearity\n",
    "    conv2d_pool = tf.nn.relu(conv2d_pool)\n",
    "    \n",
    "    # 5. Apply max pooling\n",
    "    conv2d_pool = tf.nn.max_pool(conv2d_pool, \n",
    "                                 ksize=[1, pool_ksize[0], pool_ksize[1], 1], \n",
    "                                 strides=[1, pool_strides[0], pool_strides[1], 1], \n",
    "                                 padding='SAME')\n",
    "\n",
    "    return conv2d_pool\n",
    "\n",
    "\n",
    "\"\"\"\n",
    "DON'T MODIFY ANYTHING IN THIS CELL THAT IS BELOW THIS LINE\n",
    "\"\"\"\n",
    "tests.test_con_pool(conv2d_maxpool)"
   ]
  },
  {
   "cell_type": "markdown",
   "metadata": {},
   "source": [
    "### Flatten Layer\n",
    "Implement the `flatten` function to change the dimension of `x_tensor` from a 4-D tensor to a 2-D tensor.  The output should be the shape (*Batch Size*, *Flattened Image Size*). Shortcut option: you can use classes from the [TensorFlow Layers](https://www.tensorflow.org/api_docs/python/tf/layers) or [TensorFlow Layers (contrib)](https://www.tensorflow.org/api_guides/python/contrib.layers) packages for this layer. For more of a challenge, only use other TensorFlow packages."
   ]
  },
  {
   "cell_type": "code",
   "execution_count": 10,
   "metadata": {},
   "outputs": [
    {
     "name": "stdout",
     "output_type": "stream",
     "text": [
      "Tests Passed\n"
     ]
    }
   ],
   "source": [
    "def flatten(x_tensor):\n",
    "    \"\"\"\n",
    "    Flatten x_tensor to (Batch Size, Flattened Image Size)\n",
    "    : x_tensor: A tensor of size (Batch Size, ...), where ... are the image dimensions.\n",
    "    : return: A tensor of size (Batch Size, Flattened Image Size).\n",
    "    \"\"\"\n",
    "    # Implement Function\n",
    "\n",
    "    shape = x_tensor.get_shape().as_list()\n",
    "    axis_1_size = shape[1]*shape[2]*shape[3]\n",
    "\n",
    "    return tf.reshape(x_tensor, [-1, axis_1_size])\n",
    "\n",
    "\n",
    "\"\"\"\n",
    "DON'T MODIFY ANYTHING IN THIS CELL THAT IS BELOW THIS LINE\n",
    "\"\"\"\n",
    "tests.test_flatten(flatten)"
   ]
  },
  {
   "cell_type": "markdown",
   "metadata": {},
   "source": [
    "### Fully-Connected Layer\n",
    "Implement the `fully_conn` function to apply a fully connected layer to `x_tensor` with the shape (*Batch Size*, *num_outputs*). Shortcut option: you can use classes from the [TensorFlow Layers](https://www.tensorflow.org/api_docs/python/tf/layers) or [TensorFlow Layers (contrib)](https://www.tensorflow.org/api_guides/python/contrib.layers) packages for this layer. For more of a challenge, only use other TensorFlow packages."
   ]
  },
  {
   "cell_type": "code",
   "execution_count": 14,
   "metadata": {},
   "outputs": [
    {
     "name": "stdout",
     "output_type": "stream",
     "text": [
      "Tests Passed\n"
     ]
    }
   ],
   "source": [
    "def fully_conn(x_tensor, num_outputs):\n",
    "    \"\"\"\n",
    "    Apply a fully connected layer to x_tensor using weight and bias\n",
    "    : x_tensor: A 2-D tensor where the first dimension is batch size.\n",
    "    : num_outputs: The number of output that the new tensor should be.\n",
    "    : return: A 2-D tensor where the second dimension is num_outputs.\n",
    "    \"\"\"\n",
    "    # Implement Function\n",
    "    # 1. Declare weights and bias for the fully connected layer\n",
    "    fuco_weights = tf.Variable(tf.random_normal([x_tensor.get_shape().as_list()[1],\n",
    "                                                num_outputs], stddev=0.05))\n",
    "    fuco_bias = tf.Variable(tf.zeros([num_outputs]))\n",
    "    \n",
    "    # 2. Add a fully connected layer\n",
    "    fuco = tf.add(tf.matmul(x_tensor, fuco_weights), fuco_bias)\n",
    "    \n",
    "    # 3. Pass through nonlinearity\n",
    "    fuco = tf.nn.relu(fuco)\n",
    "    \n",
    "    return fuco\n",
    "\n",
    "\n",
    "\"\"\"\n",
    "DON'T MODIFY ANYTHING IN THIS CELL THAT IS BELOW THIS LINE\n",
    "\"\"\"\n",
    "tests.test_fully_conn(fully_conn)"
   ]
  },
  {
   "cell_type": "markdown",
   "metadata": {},
   "source": [
    "### Output Layer\n",
    "Implement the `output` function to apply a fully connected layer to `x_tensor` with the shape (*Batch Size*, *num_outputs*). Shortcut option: you can use classes from the [TensorFlow Layers](https://www.tensorflow.org/api_docs/python/tf/layers) or [TensorFlow Layers (contrib)](https://www.tensorflow.org/api_guides/python/contrib.layers) packages for this layer. For more of a challenge, only use other TensorFlow packages.\n",
    "\n",
    "**Note:** Activation, softmax, or cross entropy should **not** be applied to this."
   ]
  },
  {
   "cell_type": "code",
   "execution_count": 13,
   "metadata": {},
   "outputs": [
    {
     "name": "stdout",
     "output_type": "stream",
     "text": [
      "Tests Passed\n"
     ]
    }
   ],
   "source": [
    "def output(x_tensor, num_outputs):\n",
    "    \"\"\"\n",
    "    Apply a output layer to x_tensor using weight and bias\n",
    "    : x_tensor: A 2-D tensor where the first dimension is batch size.\n",
    "    : num_outputs: The number of output that the new tensor should be.\n",
    "    : return: A 2-D tensor where the second dimension is num_outputs.\n",
    "    \"\"\"\n",
    "    # TODO: Implement Function\n",
    "    # 1. Declare weights and bias for the fully connected layer\n",
    "    out_weights = tf.Variable(tf.random_normal([x_tensor.get_shape().as_list()[1],\n",
    "                                                num_outputs], stddev=0.05))\n",
    "    out_bias = tf.Variable(tf.zeros([num_outputs]))\n",
    "    \n",
    "    # 2. Add a fully connected layer\n",
    "    out = tf.add(tf.matmul(x_tensor, out_weights), out_bias)\n",
    "\n",
    "    return out\n",
    "\n",
    "\n",
    "\"\"\"\n",
    "DON'T MODIFY ANYTHING IN THIS CELL THAT IS BELOW THIS LINE\n",
    "\"\"\"\n",
    "tests.test_output(output)"
   ]
  },
  {
   "cell_type": "markdown",
   "metadata": {},
   "source": [
    "### Create Convolutional Model\n",
    "Implement the function `conv_net` to create a convolutional neural network model. The function takes in a batch of images, `x`, and outputs logits.  Use the layers you created above to create this model:\n",
    "\n",
    "* Apply 1, 2, or 3 Convolution and Max Pool layers\n",
    "* Apply a Flatten Layer\n",
    "* Apply 1, 2, or 3 Fully Connected Layers\n",
    "* Apply an Output Layer\n",
    "* Return the output\n",
    "* Apply [TensorFlow's Dropout](https://www.tensorflow.org/api_docs/python/tf/nn/dropout) to one or more layers in the model using `keep_prob`. "
   ]
  },
  {
   "cell_type": "code",
   "execution_count": 47,
   "metadata": {},
   "outputs": [
    {
     "name": "stdout",
     "output_type": "stream",
     "text": [
      "Neural Network Built!\n"
     ]
    }
   ],
   "source": [
    "def conv_net(x, keep_prob):\n",
    "    \"\"\"\n",
    "    Create a convolutional neural network model\n",
    "    : x: Placeholder tensor that holds image data.\n",
    "    : keep_prob: Placeholder tensor that holds dropout keep probability.\n",
    "    : return: Tensor that represents logits\n",
    "    \"\"\"\n",
    "    # TODO: Apply 1, 2, or 3 Convolution and Max Pool layers\n",
    "    #    Play around with different number of outputs, kernel size and stride\n",
    "    # Function Definition from Above:\n",
    "    #    conv2d_maxpool(x_tensor, conv_num_outputs, conv_ksize, conv_strides, pool_ksize, pool_strides)\n",
    "    convnet = conv2d_maxpool(x, 32,  [5, 5], [1, 1], [2, 2], [2, 2])\n",
    "    convnet = conv2d_maxpool(convnet, 64,  [3, 3], [1, 1], [2, 2], [2, 2])\n",
    "    convnet = conv2d_maxpool(convnet, 128, [1, 1], [1, 1], [2, 2], [2, 2])\n",
    "    \n",
    "\n",
    "    # TODO: Apply a Flatten Layer\n",
    "    # Function Definition from Above:\n",
    "    #   flatten(x_tensor)\n",
    "    convnet = flatten(convnet)\n",
    "    \n",
    "\n",
    "    # TODO: Apply 1, 2, or 3 Fully Connected Layers\n",
    "    #    Play around with different number of outputs\n",
    "    # Function Definition from Above:\n",
    "    #   fully_conn(x_tensor, num_outputs)\n",
    "    convnet = fully_conn(convnet, 1024)\n",
    "    convnet = tf.nn.dropout(convnet, keep_prob=keep_prob)\n",
    "#     convnet = fully_conn(convnet, 512)\n",
    "#     convnet = tf.nn.dropout(convnet, keep_prob=keep_prob)\n",
    "    convnet = fully_conn(convnet, 256)\n",
    "    convnet = tf.nn.dropout(convnet, keep_prob=keep_prob)\n",
    "    \n",
    "    \n",
    "    # TODO: Apply an Output Layer\n",
    "    #    Set this to the number of classes\n",
    "    # Function Definition from Above:\n",
    "    #   output(x_tensor, num_outputs)\n",
    "    convnet = output(convnet, 10)\n",
    "    \n",
    "    \n",
    "    # TODO: return output\n",
    "    return convnet\n",
    "\n",
    "\n",
    "\"\"\"\n",
    "DON'T MODIFY ANYTHING IN THIS CELL THAT IS BELOW THIS LINE\n",
    "\"\"\"\n",
    "\n",
    "##############################\n",
    "## Build the Neural Network ##\n",
    "##############################\n",
    "\n",
    "# Learning rate\n",
    "learning_rate = 0.0001\n",
    "\n",
    "# Remove previous weights, bias, inputs, etc..\n",
    "tf.reset_default_graph()\n",
    "\n",
    "# Inputs\n",
    "x = neural_net_image_input((32, 32, 3))\n",
    "y = neural_net_label_input(10)\n",
    "keep_prob = neural_net_keep_prob_input()\n",
    "\n",
    "# Model\n",
    "logits = conv_net(x, keep_prob)\n",
    "\n",
    "# Name logits Tensor, so that is can be loaded from disk after training\n",
    "logits = tf.identity(logits, name='logits')\n",
    "\n",
    "# Loss and Optimizer\n",
    "cost = tf.reduce_mean(tf.nn.softmax_cross_entropy_with_logits(logits=logits, labels=y))\n",
    "optimizer = tf.train.AdamOptimizer(learning_rate=learning_rate).minimize(cost)\n",
    "\n",
    "# Accuracy\n",
    "correct_pred = tf.equal(tf.argmax(logits, 1), tf.argmax(y, 1))\n",
    "accuracy = tf.reduce_mean(tf.cast(correct_pred, tf.float32), name='accuracy')\n",
    "\n",
    "tests.test_conv_net(conv_net)"
   ]
  },
  {
   "cell_type": "markdown",
   "metadata": {},
   "source": [
    "## Train the Neural Network\n",
    "### Single Optimization\n",
    "Implement the function `train_neural_network` to do a single optimization.  The optimization should use `optimizer` to optimize in `session` with a `feed_dict` of the following:\n",
    "* `x` for image input\n",
    "* `y` for labels\n",
    "* `keep_prob` for keep probability for dropout\n",
    "\n",
    "This function will be called for each batch, so `tf.global_variables_initializer()` has already been called.\n",
    "\n",
    "Note: Nothing needs to be returned. This function is only optimizing the neural network."
   ]
  },
  {
   "cell_type": "code",
   "execution_count": 17,
   "metadata": {},
   "outputs": [
    {
     "name": "stdout",
     "output_type": "stream",
     "text": [
      "Tests Passed\n"
     ]
    }
   ],
   "source": [
    "def train_neural_network(session, optimizer, keep_probability, feature_batch, label_batch):\n",
    "    \"\"\"\n",
    "    Optimize the session on a batch of images and labels\n",
    "    : session: Current TensorFlow session\n",
    "    : optimizer: TensorFlow optimizer function\n",
    "    : keep_probability: keep probability\n",
    "    : feature_batch: Batch of Numpy image data\n",
    "    : label_batch: Batch of Numpy label data\n",
    "    \"\"\"\n",
    "    # Implement Function\n",
    "    \n",
    "    session.run(optimizer, feed_dict={x: feature_batch, y: label_batch, keep_prob: keep_probability})\n",
    "\n",
    "\n",
    "\"\"\"\n",
    "DON'T MODIFY ANYTHING IN THIS CELL THAT IS BELOW THIS LINE\n",
    "\"\"\"\n",
    "tests.test_train_nn(train_neural_network)"
   ]
  },
  {
   "cell_type": "markdown",
   "metadata": {},
   "source": [
    "### Show Stats\n",
    "Implement the function `print_stats` to print loss and validation accuracy.  Use the global variables `valid_features` and `valid_labels` to calculate validation accuracy.  Use a keep probability of `1.0` to calculate the loss and validation accuracy."
   ]
  },
  {
   "cell_type": "code",
   "execution_count": 18,
   "metadata": {
    "collapsed": true
   },
   "outputs": [],
   "source": [
    "def print_stats(session, feature_batch, label_batch, cost, accuracy):\n",
    "    \"\"\"\n",
    "    Print information about loss and validation accuracy\n",
    "    : session: Current TensorFlow session\n",
    "    : feature_batch: Batch of Numpy image data\n",
    "    : label_batch: Batch of Numpy label data\n",
    "    : cost: TensorFlow cost function\n",
    "    : accuracy: TensorFlow accuracy function\n",
    "    \"\"\"\n",
    "    # TODO: Implement Function\n",
    "                # Calculate batch loss and accuracy\n",
    "    loss = session.run(cost, feed_dict={x: feature_batch, y: label_batch, keep_prob: 1.})\n",
    "    valid_acc = sess.run(accuracy, feed_dict={x: valid_features, y: valid_labels, keep_prob: 1.})\n",
    "\n",
    "    print('Loss: {:>10.4f} Validation Accuracy: {:.6f}'.format(loss, valid_acc))"
   ]
  },
  {
   "cell_type": "markdown",
   "metadata": {},
   "source": [
    "### Hyperparameters\n",
    "Tune the following parameters:\n",
    "* Set `epochs` to the number of iterations until the network stops learning or start overfitting\n",
    "* Set `batch_size` to the highest number that your machine has memory for.  Most people set them to common sizes of memory:\n",
    " * 64\n",
    " * 128\n",
    " * 256\n",
    " * ...\n",
    "* Set `keep_probability` to the probability of keeping a node using dropout"
   ]
  },
  {
   "cell_type": "code",
   "execution_count": 48,
   "metadata": {
    "collapsed": true
   },
   "outputs": [],
   "source": [
    "# TODO: Tune Parameters\n",
    "epochs = 50\n",
    "batch_size = 128\n",
    "keep_probability = 0.75"
   ]
  },
  {
   "cell_type": "markdown",
   "metadata": {},
   "source": [
    "### Train on a Single CIFAR-10 Batch\n",
    "Instead of training the neural network on all the CIFAR-10 batches of data, let's use a single batch. This should save time while you iterate on the model to get a better accuracy.  Once the final validation accuracy is 50% or greater, run the model on all the data in the next section."
   ]
  },
  {
   "cell_type": "code",
   "execution_count": 49,
   "metadata": {},
   "outputs": [
    {
     "name": "stdout",
     "output_type": "stream",
     "text": [
      "Checking the Training on a Single Batch...\n",
      "Epoch  1, CIFAR-10 Batch 1:  Loss:     2.1833 Validation Accuracy: 0.282000\n",
      "Epoch  2, CIFAR-10 Batch 1:  Loss:     2.1214 Validation Accuracy: 0.321400\n",
      "Epoch  3, CIFAR-10 Batch 1:  Loss:     2.0599 Validation Accuracy: 0.368400\n",
      "Epoch  4, CIFAR-10 Batch 1:  Loss:     1.9538 Validation Accuracy: 0.403200\n",
      "Epoch  5, CIFAR-10 Batch 1:  Loss:     1.8854 Validation Accuracy: 0.427200\n",
      "Epoch  6, CIFAR-10 Batch 1:  Loss:     1.8227 Validation Accuracy: 0.441400\n",
      "Epoch  7, CIFAR-10 Batch 1:  Loss:     1.7586 Validation Accuracy: 0.447600\n",
      "Epoch  8, CIFAR-10 Batch 1:  Loss:     1.7342 Validation Accuracy: 0.459600\n",
      "Epoch  9, CIFAR-10 Batch 1:  Loss:     1.7004 Validation Accuracy: 0.464400\n",
      "Epoch 10, CIFAR-10 Batch 1:  Loss:     1.6520 Validation Accuracy: 0.478800\n",
      "Epoch 11, CIFAR-10 Batch 1:  Loss:     1.6107 Validation Accuracy: 0.484200\n",
      "Epoch 12, CIFAR-10 Batch 1:  Loss:     1.5648 Validation Accuracy: 0.493400\n",
      "Epoch 13, CIFAR-10 Batch 1:  Loss:     1.5383 Validation Accuracy: 0.499200\n",
      "Epoch 14, CIFAR-10 Batch 1:  Loss:     1.4877 Validation Accuracy: 0.510200\n",
      "Epoch 15, CIFAR-10 Batch 1:  Loss:     1.4609 Validation Accuracy: 0.512000\n",
      "Epoch 16, CIFAR-10 Batch 1:  Loss:     1.4204 Validation Accuracy: 0.517400\n",
      "Epoch 17, CIFAR-10 Batch 1:  Loss:     1.3895 Validation Accuracy: 0.517800\n",
      "Epoch 18, CIFAR-10 Batch 1:  Loss:     1.3462 Validation Accuracy: 0.525200\n",
      "Epoch 19, CIFAR-10 Batch 1:  Loss:     1.3208 Validation Accuracy: 0.525200\n",
      "Epoch 20, CIFAR-10 Batch 1:  Loss:     1.2830 Validation Accuracy: 0.530200\n",
      "Epoch 21, CIFAR-10 Batch 1:  Loss:     1.2408 Validation Accuracy: 0.528600\n",
      "Epoch 22, CIFAR-10 Batch 1:  Loss:     1.1988 Validation Accuracy: 0.531800\n",
      "Epoch 23, CIFAR-10 Batch 1:  Loss:     1.1824 Validation Accuracy: 0.532600\n",
      "Epoch 24, CIFAR-10 Batch 1:  Loss:     1.1403 Validation Accuracy: 0.537600\n",
      "Epoch 25, CIFAR-10 Batch 1:  Loss:     1.1182 Validation Accuracy: 0.536400\n",
      "Epoch 26, CIFAR-10 Batch 1:  Loss:     1.0958 Validation Accuracy: 0.539200\n",
      "Epoch 27, CIFAR-10 Batch 1:  Loss:     1.0301 Validation Accuracy: 0.545800\n",
      "Epoch 28, CIFAR-10 Batch 1:  Loss:     1.0177 Validation Accuracy: 0.548600\n",
      "Epoch 29, CIFAR-10 Batch 1:  Loss:     1.0055 Validation Accuracy: 0.549800\n",
      "Epoch 30, CIFAR-10 Batch 1:  Loss:     0.9321 Validation Accuracy: 0.550400\n",
      "Epoch 31, CIFAR-10 Batch 1:  Loss:     0.9230 Validation Accuracy: 0.551600\n",
      "Epoch 32, CIFAR-10 Batch 1:  Loss:     0.8988 Validation Accuracy: 0.555600\n",
      "Epoch 33, CIFAR-10 Batch 1:  Loss:     0.8834 Validation Accuracy: 0.553800\n",
      "Epoch 34, CIFAR-10 Batch 1:  Loss:     0.8514 Validation Accuracy: 0.562200\n",
      "Epoch 35, CIFAR-10 Batch 1:  Loss:     0.8148 Validation Accuracy: 0.562200\n",
      "Epoch 36, CIFAR-10 Batch 1:  Loss:     0.7656 Validation Accuracy: 0.560000\n",
      "Epoch 37, CIFAR-10 Batch 1:  Loss:     0.7354 Validation Accuracy: 0.565200\n",
      "Epoch 38, CIFAR-10 Batch 1:  Loss:     0.7344 Validation Accuracy: 0.558800\n",
      "Epoch 39, CIFAR-10 Batch 1:  Loss:     0.6868 Validation Accuracy: 0.568800\n",
      "Epoch 40, CIFAR-10 Batch 1:  Loss:     0.6674 Validation Accuracy: 0.576400\n",
      "Epoch 41, CIFAR-10 Batch 1:  Loss:     0.6367 Validation Accuracy: 0.572600\n",
      "Epoch 42, CIFAR-10 Batch 1:  Loss:     0.6060 Validation Accuracy: 0.569800\n",
      "Epoch 43, CIFAR-10 Batch 1:  Loss:     0.5848 Validation Accuracy: 0.576000\n",
      "Epoch 44, CIFAR-10 Batch 1:  Loss:     0.5743 Validation Accuracy: 0.573200\n",
      "Epoch 45, CIFAR-10 Batch 1:  Loss:     0.5270 Validation Accuracy: 0.576400\n",
      "Epoch 46, CIFAR-10 Batch 1:  Loss:     0.5220 Validation Accuracy: 0.583000\n",
      "Epoch 47, CIFAR-10 Batch 1:  Loss:     0.4834 Validation Accuracy: 0.584800\n",
      "Epoch 48, CIFAR-10 Batch 1:  Loss:     0.4622 Validation Accuracy: 0.588800\n",
      "Epoch 49, CIFAR-10 Batch 1:  Loss:     0.4335 Validation Accuracy: 0.582200\n",
      "Epoch 50, CIFAR-10 Batch 1:  Loss:     0.4108 Validation Accuracy: 0.587000\n"
     ]
    }
   ],
   "source": [
    "\"\"\"\n",
    "DON'T MODIFY ANYTHING IN THIS CELL\n",
    "\"\"\"\n",
    "print('Checking the Training on a Single Batch...')\n",
    "with tf.Session() as sess:\n",
    "    # Initializing the variables\n",
    "    sess.run(tf.global_variables_initializer())\n",
    "    \n",
    "    # Training cycle\n",
    "    for epoch in range(epochs):\n",
    "        batch_i = 1\n",
    "        for batch_features, batch_labels in helper.load_preprocess_training_batch(batch_i, batch_size):\n",
    "            train_neural_network(sess, optimizer, keep_probability, batch_features, batch_labels)\n",
    "        print('Epoch {:>2}, CIFAR-10 Batch {}:  '.format(epoch + 1, batch_i), end='')\n",
    "        print_stats(sess, batch_features, batch_labels, cost, accuracy)"
   ]
  },
  {
   "cell_type": "markdown",
   "metadata": {},
   "source": [
    "### Fully Train the Model\n",
    "Now that you got a good accuracy with a single CIFAR-10 batch, try it with all five batches."
   ]
  },
  {
   "cell_type": "code",
   "execution_count": 50,
   "metadata": {
    "scrolled": true
   },
   "outputs": [
    {
     "name": "stdout",
     "output_type": "stream",
     "text": [
      "Training...\n",
      "Epoch  1, CIFAR-10 Batch 1:  Loss:     2.2034 Validation Accuracy: 0.299400\n",
      "Epoch  1, CIFAR-10 Batch 2:  Loss:     1.9811 Validation Accuracy: 0.326200\n",
      "Epoch  1, CIFAR-10 Batch 3:  Loss:     1.6520 Validation Accuracy: 0.365800\n",
      "Epoch  1, CIFAR-10 Batch 4:  Loss:     1.7199 Validation Accuracy: 0.396800\n",
      "Epoch  1, CIFAR-10 Batch 5:  Loss:     1.6781 Validation Accuracy: 0.422800\n",
      "Epoch  2, CIFAR-10 Batch 1:  Loss:     1.9667 Validation Accuracy: 0.436600\n",
      "Epoch  2, CIFAR-10 Batch 2:  Loss:     1.6910 Validation Accuracy: 0.446600\n",
      "Epoch  2, CIFAR-10 Batch 3:  Loss:     1.3478 Validation Accuracy: 0.441600\n",
      "Epoch  2, CIFAR-10 Batch 4:  Loss:     1.5586 Validation Accuracy: 0.458800\n",
      "Epoch  2, CIFAR-10 Batch 5:  Loss:     1.5009 Validation Accuracy: 0.474400\n",
      "Epoch  3, CIFAR-10 Batch 1:  Loss:     1.7609 Validation Accuracy: 0.486600\n",
      "Epoch  3, CIFAR-10 Batch 2:  Loss:     1.5746 Validation Accuracy: 0.487200\n",
      "Epoch  3, CIFAR-10 Batch 3:  Loss:     1.1798 Validation Accuracy: 0.491800\n",
      "Epoch  3, CIFAR-10 Batch 4:  Loss:     1.4517 Validation Accuracy: 0.497400\n",
      "Epoch  3, CIFAR-10 Batch 5:  Loss:     1.3598 Validation Accuracy: 0.506600\n",
      "Epoch  4, CIFAR-10 Batch 1:  Loss:     1.6095 Validation Accuracy: 0.513800\n",
      "Epoch  4, CIFAR-10 Batch 2:  Loss:     1.4297 Validation Accuracy: 0.519800\n",
      "Epoch  4, CIFAR-10 Batch 3:  Loss:     1.0757 Validation Accuracy: 0.517800\n",
      "Epoch  4, CIFAR-10 Batch 4:  Loss:     1.3501 Validation Accuracy: 0.528400\n",
      "Epoch  4, CIFAR-10 Batch 5:  Loss:     1.2421 Validation Accuracy: 0.529200\n",
      "Epoch  5, CIFAR-10 Batch 1:  Loss:     1.5080 Validation Accuracy: 0.542200\n",
      "Epoch  5, CIFAR-10 Batch 2:  Loss:     1.3589 Validation Accuracy: 0.541000\n",
      "Epoch  5, CIFAR-10 Batch 3:  Loss:     0.9964 Validation Accuracy: 0.537800\n",
      "Epoch  5, CIFAR-10 Batch 4:  Loss:     1.2547 Validation Accuracy: 0.547600\n",
      "Epoch  5, CIFAR-10 Batch 5:  Loss:     1.1843 Validation Accuracy: 0.549800\n",
      "Epoch  6, CIFAR-10 Batch 1:  Loss:     1.4336 Validation Accuracy: 0.561400\n",
      "Epoch  6, CIFAR-10 Batch 2:  Loss:     1.2787 Validation Accuracy: 0.557200\n",
      "Epoch  6, CIFAR-10 Batch 3:  Loss:     0.9320 Validation Accuracy: 0.548600\n",
      "Epoch  6, CIFAR-10 Batch 4:  Loss:     1.1831 Validation Accuracy: 0.562800\n",
      "Epoch  6, CIFAR-10 Batch 5:  Loss:     1.1061 Validation Accuracy: 0.563400\n",
      "Epoch  7, CIFAR-10 Batch 1:  Loss:     1.3591 Validation Accuracy: 0.578400\n",
      "Epoch  7, CIFAR-10 Batch 2:  Loss:     1.1726 Validation Accuracy: 0.576400\n",
      "Epoch  7, CIFAR-10 Batch 3:  Loss:     0.8806 Validation Accuracy: 0.568400\n",
      "Epoch  7, CIFAR-10 Batch 4:  Loss:     1.0835 Validation Accuracy: 0.575400\n",
      "Epoch  7, CIFAR-10 Batch 5:  Loss:     1.0326 Validation Accuracy: 0.587800\n",
      "Epoch  8, CIFAR-10 Batch 1:  Loss:     1.3270 Validation Accuracy: 0.588800\n",
      "Epoch  8, CIFAR-10 Batch 2:  Loss:     1.0843 Validation Accuracy: 0.594200\n",
      "Epoch  8, CIFAR-10 Batch 3:  Loss:     0.8186 Validation Accuracy: 0.582800\n",
      "Epoch  8, CIFAR-10 Batch 4:  Loss:     1.0154 Validation Accuracy: 0.593400\n",
      "Epoch  8, CIFAR-10 Batch 5:  Loss:     0.9789 Validation Accuracy: 0.595000\n",
      "Epoch  9, CIFAR-10 Batch 1:  Loss:     1.2540 Validation Accuracy: 0.599400\n",
      "Epoch  9, CIFAR-10 Batch 2:  Loss:     0.9949 Validation Accuracy: 0.606600\n",
      "Epoch  9, CIFAR-10 Batch 3:  Loss:     0.7652 Validation Accuracy: 0.595400\n",
      "Epoch  9, CIFAR-10 Batch 4:  Loss:     0.9420 Validation Accuracy: 0.606600\n",
      "Epoch  9, CIFAR-10 Batch 5:  Loss:     0.9279 Validation Accuracy: 0.601200\n",
      "Epoch 10, CIFAR-10 Batch 1:  Loss:     1.2121 Validation Accuracy: 0.610200\n",
      "Epoch 10, CIFAR-10 Batch 2:  Loss:     0.9419 Validation Accuracy: 0.615600\n",
      "Epoch 10, CIFAR-10 Batch 3:  Loss:     0.7026 Validation Accuracy: 0.607400\n",
      "Epoch 10, CIFAR-10 Batch 4:  Loss:     0.8707 Validation Accuracy: 0.615400\n",
      "Epoch 10, CIFAR-10 Batch 5:  Loss:     0.8630 Validation Accuracy: 0.613400\n",
      "Epoch 11, CIFAR-10 Batch 1:  Loss:     1.1541 Validation Accuracy: 0.617400\n",
      "Epoch 11, CIFAR-10 Batch 2:  Loss:     0.8938 Validation Accuracy: 0.624400\n",
      "Epoch 11, CIFAR-10 Batch 3:  Loss:     0.6700 Validation Accuracy: 0.615600\n",
      "Epoch 11, CIFAR-10 Batch 4:  Loss:     0.8152 Validation Accuracy: 0.629200\n",
      "Epoch 11, CIFAR-10 Batch 5:  Loss:     0.8086 Validation Accuracy: 0.626600\n",
      "Epoch 12, CIFAR-10 Batch 1:  Loss:     1.0850 Validation Accuracy: 0.626600\n",
      "Epoch 12, CIFAR-10 Batch 2:  Loss:     0.8269 Validation Accuracy: 0.631800\n",
      "Epoch 12, CIFAR-10 Batch 3:  Loss:     0.6246 Validation Accuracy: 0.621200\n",
      "Epoch 12, CIFAR-10 Batch 4:  Loss:     0.7740 Validation Accuracy: 0.634600\n",
      "Epoch 12, CIFAR-10 Batch 5:  Loss:     0.7639 Validation Accuracy: 0.633200\n",
      "Epoch 13, CIFAR-10 Batch 1:  Loss:     1.0354 Validation Accuracy: 0.630000\n",
      "Epoch 13, CIFAR-10 Batch 2:  Loss:     0.7838 Validation Accuracy: 0.638600\n",
      "Epoch 13, CIFAR-10 Batch 3:  Loss:     0.5610 Validation Accuracy: 0.630200\n",
      "Epoch 13, CIFAR-10 Batch 4:  Loss:     0.7266 Validation Accuracy: 0.641800\n",
      "Epoch 13, CIFAR-10 Batch 5:  Loss:     0.7236 Validation Accuracy: 0.638200\n",
      "Epoch 14, CIFAR-10 Batch 1:  Loss:     0.9973 Validation Accuracy: 0.640400\n",
      "Epoch 14, CIFAR-10 Batch 2:  Loss:     0.7468 Validation Accuracy: 0.647000\n",
      "Epoch 14, CIFAR-10 Batch 3:  Loss:     0.5212 Validation Accuracy: 0.637600\n",
      "Epoch 14, CIFAR-10 Batch 4:  Loss:     0.6893 Validation Accuracy: 0.648000\n",
      "Epoch 14, CIFAR-10 Batch 5:  Loss:     0.7022 Validation Accuracy: 0.644600\n",
      "Epoch 15, CIFAR-10 Batch 1:  Loss:     0.9340 Validation Accuracy: 0.647400\n",
      "Epoch 15, CIFAR-10 Batch 2:  Loss:     0.7078 Validation Accuracy: 0.651600\n",
      "Epoch 15, CIFAR-10 Batch 3:  Loss:     0.5016 Validation Accuracy: 0.641600\n",
      "Epoch 15, CIFAR-10 Batch 4:  Loss:     0.6626 Validation Accuracy: 0.656400\n",
      "Epoch 15, CIFAR-10 Batch 5:  Loss:     0.6302 Validation Accuracy: 0.656000\n",
      "Epoch 16, CIFAR-10 Batch 1:  Loss:     0.8855 Validation Accuracy: 0.657000\n",
      "Epoch 16, CIFAR-10 Batch 2:  Loss:     0.6491 Validation Accuracy: 0.663800\n",
      "Epoch 16, CIFAR-10 Batch 3:  Loss:     0.4333 Validation Accuracy: 0.651800\n",
      "Epoch 16, CIFAR-10 Batch 4:  Loss:     0.6087 Validation Accuracy: 0.655800\n",
      "Epoch 16, CIFAR-10 Batch 5:  Loss:     0.5959 Validation Accuracy: 0.656800\n",
      "Epoch 17, CIFAR-10 Batch 1:  Loss:     0.7991 Validation Accuracy: 0.661800\n",
      "Epoch 17, CIFAR-10 Batch 2:  Loss:     0.6150 Validation Accuracy: 0.667000\n",
      "Epoch 17, CIFAR-10 Batch 3:  Loss:     0.4063 Validation Accuracy: 0.659600\n",
      "Epoch 17, CIFAR-10 Batch 4:  Loss:     0.5649 Validation Accuracy: 0.667000\n",
      "Epoch 17, CIFAR-10 Batch 5:  Loss:     0.5613 Validation Accuracy: 0.661400\n",
      "Epoch 18, CIFAR-10 Batch 1:  Loss:     0.8019 Validation Accuracy: 0.672200\n",
      "Epoch 18, CIFAR-10 Batch 2:  Loss:     0.5734 Validation Accuracy: 0.673600\n",
      "Epoch 18, CIFAR-10 Batch 3:  Loss:     0.3920 Validation Accuracy: 0.664600\n",
      "Epoch 18, CIFAR-10 Batch 4:  Loss:     0.5608 Validation Accuracy: 0.667600\n",
      "Epoch 18, CIFAR-10 Batch 5:  Loss:     0.5324 Validation Accuracy: 0.669400\n",
      "Epoch 19, CIFAR-10 Batch 1:  Loss:     0.7447 Validation Accuracy: 0.675800\n",
      "Epoch 19, CIFAR-10 Batch 2:  Loss:     0.5345 Validation Accuracy: 0.678400\n",
      "Epoch 19, CIFAR-10 Batch 3:  Loss:     0.3645 Validation Accuracy: 0.668200\n",
      "Epoch 19, CIFAR-10 Batch 4:  Loss:     0.4882 Validation Accuracy: 0.671200\n",
      "Epoch 19, CIFAR-10 Batch 5:  Loss:     0.4818 Validation Accuracy: 0.669400\n",
      "Epoch 20, CIFAR-10 Batch 1:  Loss:     0.7095 Validation Accuracy: 0.673600\n",
      "Epoch 20, CIFAR-10 Batch 2:  Loss:     0.5013 Validation Accuracy: 0.684600\n",
      "Epoch 20, CIFAR-10 Batch 3:  Loss:     0.3236 Validation Accuracy: 0.674200\n",
      "Epoch 20, CIFAR-10 Batch 4:  Loss:     0.4805 Validation Accuracy: 0.677400\n",
      "Epoch 20, CIFAR-10 Batch 5:  Loss:     0.4538 Validation Accuracy: 0.679400\n",
      "Epoch 21, CIFAR-10 Batch 1:  Loss:     0.6468 Validation Accuracy: 0.683800\n",
      "Epoch 21, CIFAR-10 Batch 2:  Loss:     0.4564 Validation Accuracy: 0.682800\n",
      "Epoch 21, CIFAR-10 Batch 3:  Loss:     0.2981 Validation Accuracy: 0.684400\n",
      "Epoch 21, CIFAR-10 Batch 4:  Loss:     0.4398 Validation Accuracy: 0.682800\n",
      "Epoch 21, CIFAR-10 Batch 5:  Loss:     0.4399 Validation Accuracy: 0.680000\n",
      "Epoch 22, CIFAR-10 Batch 1:  Loss:     0.6143 Validation Accuracy: 0.683800\n",
      "Epoch 22, CIFAR-10 Batch 2:  Loss:     0.4396 Validation Accuracy: 0.686800\n",
      "Epoch 22, CIFAR-10 Batch 3:  Loss:     0.2894 Validation Accuracy: 0.690800\n"
     ]
    },
    {
     "name": "stdout",
     "output_type": "stream",
     "text": [
      "Epoch 22, CIFAR-10 Batch 4:  Loss:     0.4260 Validation Accuracy: 0.683800\n",
      "Epoch 22, CIFAR-10 Batch 5:  Loss:     0.4340 Validation Accuracy: 0.674400\n",
      "Epoch 23, CIFAR-10 Batch 1:  Loss:     0.5972 Validation Accuracy: 0.687000\n",
      "Epoch 23, CIFAR-10 Batch 2:  Loss:     0.3987 Validation Accuracy: 0.693400\n",
      "Epoch 23, CIFAR-10 Batch 3:  Loss:     0.2707 Validation Accuracy: 0.695000\n",
      "Epoch 23, CIFAR-10 Batch 4:  Loss:     0.4185 Validation Accuracy: 0.687800\n",
      "Epoch 23, CIFAR-10 Batch 5:  Loss:     0.3554 Validation Accuracy: 0.693000\n",
      "Epoch 24, CIFAR-10 Batch 1:  Loss:     0.5498 Validation Accuracy: 0.685000\n",
      "Epoch 24, CIFAR-10 Batch 2:  Loss:     0.3679 Validation Accuracy: 0.689600\n",
      "Epoch 24, CIFAR-10 Batch 3:  Loss:     0.2585 Validation Accuracy: 0.698000\n",
      "Epoch 24, CIFAR-10 Batch 4:  Loss:     0.3972 Validation Accuracy: 0.689000\n",
      "Epoch 24, CIFAR-10 Batch 5:  Loss:     0.3326 Validation Accuracy: 0.698800\n",
      "Epoch 25, CIFAR-10 Batch 1:  Loss:     0.5000 Validation Accuracy: 0.694600\n",
      "Epoch 25, CIFAR-10 Batch 2:  Loss:     0.3442 Validation Accuracy: 0.699000\n",
      "Epoch 25, CIFAR-10 Batch 3:  Loss:     0.2289 Validation Accuracy: 0.699200\n",
      "Epoch 25, CIFAR-10 Batch 4:  Loss:     0.3636 Validation Accuracy: 0.691800\n",
      "Epoch 25, CIFAR-10 Batch 5:  Loss:     0.2981 Validation Accuracy: 0.701600\n",
      "Epoch 26, CIFAR-10 Batch 1:  Loss:     0.4971 Validation Accuracy: 0.693800\n",
      "Epoch 26, CIFAR-10 Batch 2:  Loss:     0.3312 Validation Accuracy: 0.700600\n",
      "Epoch 26, CIFAR-10 Batch 3:  Loss:     0.2300 Validation Accuracy: 0.702600\n",
      "Epoch 26, CIFAR-10 Batch 4:  Loss:     0.3458 Validation Accuracy: 0.700400\n",
      "Epoch 26, CIFAR-10 Batch 5:  Loss:     0.2918 Validation Accuracy: 0.707800\n",
      "Epoch 27, CIFAR-10 Batch 1:  Loss:     0.4338 Validation Accuracy: 0.696800\n",
      "Epoch 27, CIFAR-10 Batch 2:  Loss:     0.3099 Validation Accuracy: 0.703000\n",
      "Epoch 27, CIFAR-10 Batch 3:  Loss:     0.2131 Validation Accuracy: 0.709800\n",
      "Epoch 27, CIFAR-10 Batch 4:  Loss:     0.3138 Validation Accuracy: 0.700600\n",
      "Epoch 27, CIFAR-10 Batch 5:  Loss:     0.2772 Validation Accuracy: 0.695000\n",
      "Epoch 28, CIFAR-10 Batch 1:  Loss:     0.3926 Validation Accuracy: 0.706600\n",
      "Epoch 28, CIFAR-10 Batch 2:  Loss:     0.2728 Validation Accuracy: 0.701000\n",
      "Epoch 28, CIFAR-10 Batch 3:  Loss:     0.1927 Validation Accuracy: 0.706800\n",
      "Epoch 28, CIFAR-10 Batch 4:  Loss:     0.3124 Validation Accuracy: 0.697600\n",
      "Epoch 28, CIFAR-10 Batch 5:  Loss:     0.2386 Validation Accuracy: 0.705600\n",
      "Epoch 29, CIFAR-10 Batch 1:  Loss:     0.4078 Validation Accuracy: 0.694800\n",
      "Epoch 29, CIFAR-10 Batch 2:  Loss:     0.2649 Validation Accuracy: 0.707200\n",
      "Epoch 29, CIFAR-10 Batch 3:  Loss:     0.1852 Validation Accuracy: 0.707200\n",
      "Epoch 29, CIFAR-10 Batch 4:  Loss:     0.2839 Validation Accuracy: 0.709400\n",
      "Epoch 29, CIFAR-10 Batch 5:  Loss:     0.2531 Validation Accuracy: 0.697800\n",
      "Epoch 30, CIFAR-10 Batch 1:  Loss:     0.3187 Validation Accuracy: 0.701000\n",
      "Epoch 30, CIFAR-10 Batch 2:  Loss:     0.2325 Validation Accuracy: 0.705400\n",
      "Epoch 30, CIFAR-10 Batch 3:  Loss:     0.1749 Validation Accuracy: 0.713600\n",
      "Epoch 30, CIFAR-10 Batch 4:  Loss:     0.2714 Validation Accuracy: 0.705400\n",
      "Epoch 30, CIFAR-10 Batch 5:  Loss:     0.2026 Validation Accuracy: 0.709200\n",
      "Epoch 31, CIFAR-10 Batch 1:  Loss:     0.3116 Validation Accuracy: 0.705400\n",
      "Epoch 31, CIFAR-10 Batch 2:  Loss:     0.2161 Validation Accuracy: 0.705600\n",
      "Epoch 31, CIFAR-10 Batch 3:  Loss:     0.1560 Validation Accuracy: 0.712200\n",
      "Epoch 31, CIFAR-10 Batch 4:  Loss:     0.2515 Validation Accuracy: 0.710600\n",
      "Epoch 31, CIFAR-10 Batch 5:  Loss:     0.1976 Validation Accuracy: 0.707600\n",
      "Epoch 32, CIFAR-10 Batch 1:  Loss:     0.2934 Validation Accuracy: 0.710600\n",
      "Epoch 32, CIFAR-10 Batch 2:  Loss:     0.1985 Validation Accuracy: 0.711200\n",
      "Epoch 32, CIFAR-10 Batch 3:  Loss:     0.1453 Validation Accuracy: 0.714200\n",
      "Epoch 32, CIFAR-10 Batch 4:  Loss:     0.2255 Validation Accuracy: 0.711200\n",
      "Epoch 32, CIFAR-10 Batch 5:  Loss:     0.1638 Validation Accuracy: 0.714400\n",
      "Epoch 33, CIFAR-10 Batch 1:  Loss:     0.2580 Validation Accuracy: 0.707800\n",
      "Epoch 33, CIFAR-10 Batch 2:  Loss:     0.1790 Validation Accuracy: 0.713000\n",
      "Epoch 33, CIFAR-10 Batch 3:  Loss:     0.1480 Validation Accuracy: 0.717400\n",
      "Epoch 33, CIFAR-10 Batch 4:  Loss:     0.2118 Validation Accuracy: 0.715000\n",
      "Epoch 33, CIFAR-10 Batch 5:  Loss:     0.1430 Validation Accuracy: 0.714600\n",
      "Epoch 34, CIFAR-10 Batch 1:  Loss:     0.2429 Validation Accuracy: 0.705600\n",
      "Epoch 34, CIFAR-10 Batch 2:  Loss:     0.1792 Validation Accuracy: 0.719600\n",
      "Epoch 34, CIFAR-10 Batch 3:  Loss:     0.1267 Validation Accuracy: 0.718400\n",
      "Epoch 34, CIFAR-10 Batch 4:  Loss:     0.1908 Validation Accuracy: 0.714800\n",
      "Epoch 34, CIFAR-10 Batch 5:  Loss:     0.1398 Validation Accuracy: 0.721400\n",
      "Epoch 35, CIFAR-10 Batch 1:  Loss:     0.1988 Validation Accuracy: 0.713200\n",
      "Epoch 35, CIFAR-10 Batch 2:  Loss:     0.1425 Validation Accuracy: 0.711000\n",
      "Epoch 35, CIFAR-10 Batch 3:  Loss:     0.1097 Validation Accuracy: 0.713200\n",
      "Epoch 35, CIFAR-10 Batch 4:  Loss:     0.1723 Validation Accuracy: 0.719200\n",
      "Epoch 35, CIFAR-10 Batch 5:  Loss:     0.1305 Validation Accuracy: 0.718000\n",
      "Epoch 36, CIFAR-10 Batch 1:  Loss:     0.1899 Validation Accuracy: 0.709000\n",
      "Epoch 36, CIFAR-10 Batch 2:  Loss:     0.1328 Validation Accuracy: 0.710400\n",
      "Epoch 36, CIFAR-10 Batch 3:  Loss:     0.1084 Validation Accuracy: 0.721400\n",
      "Epoch 36, CIFAR-10 Batch 4:  Loss:     0.1634 Validation Accuracy: 0.720000\n",
      "Epoch 36, CIFAR-10 Batch 5:  Loss:     0.1146 Validation Accuracy: 0.725200\n",
      "Epoch 37, CIFAR-10 Batch 1:  Loss:     0.1943 Validation Accuracy: 0.711800\n",
      "Epoch 37, CIFAR-10 Batch 2:  Loss:     0.1264 Validation Accuracy: 0.716800\n",
      "Epoch 37, CIFAR-10 Batch 3:  Loss:     0.0966 Validation Accuracy: 0.723000\n",
      "Epoch 37, CIFAR-10 Batch 4:  Loss:     0.1586 Validation Accuracy: 0.718000\n",
      "Epoch 37, CIFAR-10 Batch 5:  Loss:     0.0989 Validation Accuracy: 0.725600\n",
      "Epoch 38, CIFAR-10 Batch 1:  Loss:     0.1482 Validation Accuracy: 0.712000\n",
      "Epoch 38, CIFAR-10 Batch 2:  Loss:     0.1215 Validation Accuracy: 0.712400\n",
      "Epoch 38, CIFAR-10 Batch 3:  Loss:     0.1070 Validation Accuracy: 0.719400\n",
      "Epoch 38, CIFAR-10 Batch 4:  Loss:     0.1300 Validation Accuracy: 0.719800\n",
      "Epoch 38, CIFAR-10 Batch 5:  Loss:     0.0973 Validation Accuracy: 0.728000\n",
      "Epoch 39, CIFAR-10 Batch 1:  Loss:     0.1227 Validation Accuracy: 0.719200\n",
      "Epoch 39, CIFAR-10 Batch 2:  Loss:     0.1049 Validation Accuracy: 0.714400\n",
      "Epoch 39, CIFAR-10 Batch 3:  Loss:     0.0857 Validation Accuracy: 0.718600\n",
      "Epoch 39, CIFAR-10 Batch 4:  Loss:     0.1261 Validation Accuracy: 0.719000\n",
      "Epoch 39, CIFAR-10 Batch 5:  Loss:     0.0842 Validation Accuracy: 0.727000\n",
      "Epoch 40, CIFAR-10 Batch 1:  Loss:     0.1113 Validation Accuracy: 0.719400\n",
      "Epoch 40, CIFAR-10 Batch 2:  Loss:     0.1007 Validation Accuracy: 0.712000\n",
      "Epoch 40, CIFAR-10 Batch 3:  Loss:     0.0901 Validation Accuracy: 0.720200\n",
      "Epoch 40, CIFAR-10 Batch 4:  Loss:     0.1160 Validation Accuracy: 0.715000\n",
      "Epoch 40, CIFAR-10 Batch 5:  Loss:     0.0750 Validation Accuracy: 0.724200\n",
      "Epoch 41, CIFAR-10 Batch 1:  Loss:     0.1062 Validation Accuracy: 0.720000\n",
      "Epoch 41, CIFAR-10 Batch 2:  Loss:     0.0915 Validation Accuracy: 0.721200\n",
      "Epoch 41, CIFAR-10 Batch 3:  Loss:     0.0657 Validation Accuracy: 0.726600\n",
      "Epoch 41, CIFAR-10 Batch 4:  Loss:     0.1048 Validation Accuracy: 0.716200\n",
      "Epoch 41, CIFAR-10 Batch 5:  Loss:     0.0667 Validation Accuracy: 0.723400\n",
      "Epoch 42, CIFAR-10 Batch 1:  Loss:     0.0842 Validation Accuracy: 0.717200\n",
      "Epoch 42, CIFAR-10 Batch 2:  Loss:     0.0831 Validation Accuracy: 0.717200\n",
      "Epoch 42, CIFAR-10 Batch 3:  Loss:     0.0664 Validation Accuracy: 0.726400\n",
      "Epoch 42, CIFAR-10 Batch 4:  Loss:     0.1013 Validation Accuracy: 0.717400\n",
      "Epoch 42, CIFAR-10 Batch 5:  Loss:     0.0631 Validation Accuracy: 0.730000\n",
      "Epoch 43, CIFAR-10 Batch 1:  Loss:     0.0858 Validation Accuracy: 0.719800\n",
      "Epoch 43, CIFAR-10 Batch 2:  Loss:     0.0818 Validation Accuracy: 0.713200\n",
      "Epoch 43, CIFAR-10 Batch 3:  Loss:     0.0668 Validation Accuracy: 0.722600\n",
      "Epoch 43, CIFAR-10 Batch 4:  Loss:     0.1215 Validation Accuracy: 0.712600\n",
      "Epoch 43, CIFAR-10 Batch 5:  Loss:     0.0565 Validation Accuracy: 0.730600\n",
      "Epoch 44, CIFAR-10 Batch 1:  Loss:     0.0798 Validation Accuracy: 0.721000\n"
     ]
    },
    {
     "name": "stdout",
     "output_type": "stream",
     "text": [
      "Epoch 44, CIFAR-10 Batch 2:  Loss:     0.0618 Validation Accuracy: 0.716200\n",
      "Epoch 44, CIFAR-10 Batch 3:  Loss:     0.0537 Validation Accuracy: 0.730000\n",
      "Epoch 44, CIFAR-10 Batch 4:  Loss:     0.0875 Validation Accuracy: 0.714600\n",
      "Epoch 44, CIFAR-10 Batch 5:  Loss:     0.0502 Validation Accuracy: 0.728200\n",
      "Epoch 45, CIFAR-10 Batch 1:  Loss:     0.0669 Validation Accuracy: 0.724600\n",
      "Epoch 45, CIFAR-10 Batch 2:  Loss:     0.0654 Validation Accuracy: 0.720600\n",
      "Epoch 45, CIFAR-10 Batch 3:  Loss:     0.0540 Validation Accuracy: 0.728600\n",
      "Epoch 45, CIFAR-10 Batch 4:  Loss:     0.0705 Validation Accuracy: 0.712600\n",
      "Epoch 45, CIFAR-10 Batch 5:  Loss:     0.0580 Validation Accuracy: 0.728800\n",
      "Epoch 46, CIFAR-10 Batch 1:  Loss:     0.0717 Validation Accuracy: 0.724200\n",
      "Epoch 46, CIFAR-10 Batch 2:  Loss:     0.0526 Validation Accuracy: 0.720000\n",
      "Epoch 46, CIFAR-10 Batch 3:  Loss:     0.0505 Validation Accuracy: 0.723600\n",
      "Epoch 46, CIFAR-10 Batch 4:  Loss:     0.0775 Validation Accuracy: 0.715600\n",
      "Epoch 46, CIFAR-10 Batch 5:  Loss:     0.0466 Validation Accuracy: 0.729800\n",
      "Epoch 47, CIFAR-10 Batch 1:  Loss:     0.0535 Validation Accuracy: 0.725800\n",
      "Epoch 47, CIFAR-10 Batch 2:  Loss:     0.0479 Validation Accuracy: 0.723200\n",
      "Epoch 47, CIFAR-10 Batch 3:  Loss:     0.0406 Validation Accuracy: 0.722800\n",
      "Epoch 47, CIFAR-10 Batch 4:  Loss:     0.0623 Validation Accuracy: 0.719200\n",
      "Epoch 47, CIFAR-10 Batch 5:  Loss:     0.0395 Validation Accuracy: 0.731400\n",
      "Epoch 48, CIFAR-10 Batch 1:  Loss:     0.0531 Validation Accuracy: 0.725600\n",
      "Epoch 48, CIFAR-10 Batch 2:  Loss:     0.0478 Validation Accuracy: 0.717000\n",
      "Epoch 48, CIFAR-10 Batch 3:  Loss:     0.0374 Validation Accuracy: 0.728200\n",
      "Epoch 48, CIFAR-10 Batch 4:  Loss:     0.0554 Validation Accuracy: 0.722600\n",
      "Epoch 48, CIFAR-10 Batch 5:  Loss:     0.0317 Validation Accuracy: 0.733600\n",
      "Epoch 49, CIFAR-10 Batch 1:  Loss:     0.0463 Validation Accuracy: 0.726400\n",
      "Epoch 49, CIFAR-10 Batch 2:  Loss:     0.0412 Validation Accuracy: 0.725400\n",
      "Epoch 49, CIFAR-10 Batch 3:  Loss:     0.0369 Validation Accuracy: 0.729000\n",
      "Epoch 49, CIFAR-10 Batch 4:  Loss:     0.0511 Validation Accuracy: 0.719400\n",
      "Epoch 49, CIFAR-10 Batch 5:  Loss:     0.0299 Validation Accuracy: 0.727800\n",
      "Epoch 50, CIFAR-10 Batch 1:  Loss:     0.0411 Validation Accuracy: 0.729400\n",
      "Epoch 50, CIFAR-10 Batch 2:  Loss:     0.0355 Validation Accuracy: 0.720800\n",
      "Epoch 50, CIFAR-10 Batch 3:  Loss:     0.0297 Validation Accuracy: 0.726200\n",
      "Epoch 50, CIFAR-10 Batch 4:  Loss:     0.0601 Validation Accuracy: 0.716800\n",
      "Epoch 50, CIFAR-10 Batch 5:  Loss:     0.0417 Validation Accuracy: 0.724600\n"
     ]
    }
   ],
   "source": [
    "\"\"\"\n",
    "DON'T MODIFY ANYTHING IN THIS CELL\n",
    "\"\"\"\n",
    "save_model_path = './image_classification'\n",
    "\n",
    "print('Training...')\n",
    "with tf.Session() as sess:\n",
    "    # Initializing the variables\n",
    "    sess.run(tf.global_variables_initializer())\n",
    "    \n",
    "    # Training cycle\n",
    "    for epoch in range(epochs):\n",
    "        # Loop over all batches\n",
    "        n_batches = 5\n",
    "        for batch_i in range(1, n_batches + 1):\n",
    "            for batch_features, batch_labels in helper.load_preprocess_training_batch(batch_i, batch_size):\n",
    "                train_neural_network(sess, optimizer, keep_probability, batch_features, batch_labels)\n",
    "            print('Epoch {:>2}, CIFAR-10 Batch {}:  '.format(epoch + 1, batch_i), end='')\n",
    "            print_stats(sess, batch_features, batch_labels, cost, accuracy)\n",
    "            \n",
    "    # Save Model\n",
    "    saver = tf.train.Saver()\n",
    "    save_path = saver.save(sess, save_model_path)"
   ]
  },
  {
   "cell_type": "markdown",
   "metadata": {},
   "source": [
    "# Checkpoint\n",
    "The model has been saved to disk.\n",
    "## Test Model\n",
    "Test your model against the test dataset.  This will be your final accuracy. You should have an accuracy greater than 50%. If you don't, keep tweaking the model architecture and parameters."
   ]
  },
  {
   "cell_type": "code",
   "execution_count": 51,
   "metadata": {},
   "outputs": [
    {
     "name": "stdout",
     "output_type": "stream",
     "text": [
      "INFO:tensorflow:Restoring parameters from ./image_classification\n",
      "Testing Accuracy: 0.7252768987341772\n",
      "\n"
     ]
    },
    {
     "data": {
      "image/png": "[encoded data removed]",
      "text/plain": [
       "<matplotlib.figure.Figure at 0x7f380ff8f630>"
      ]
     },
     "metadata": {
      "image/png": {
       "height": 319,
       "width": 355
      }
     },
     "output_type": "display_data"
    }
   ],
   "source": [
    "\"\"\"\n",
    "DON'T MODIFY ANYTHING IN THIS CELL\n",
    "\"\"\"\n",
    "%matplotlib inline\n",
    "%config InlineBackend.figure_format = 'retina'\n",
    "\n",
    "import tensorflow as tf\n",
    "import pickle\n",
    "import helper\n",
    "import random\n",
    "\n",
    "# Set batch size if not already set\n",
    "try:\n",
    "    if batch_size:\n",
    "        pass\n",
    "except NameError:\n",
    "    batch_size = 64\n",
    "\n",
    "save_model_path = './image_classification'\n",
    "n_samples = 4\n",
    "top_n_predictions = 3\n",
    "\n",
    "def test_model():\n",
    "    \"\"\"\n",
    "    Test the saved model against the test dataset\n",
    "    \"\"\"\n",
    "\n",
    "    test_features, test_labels = pickle.load(open('preprocess_test.p', mode='rb'))\n",
    "    loaded_graph = tf.Graph()\n",
    "\n",
    "    with tf.Session(graph=loaded_graph) as sess:\n",
    "        # Load model\n",
    "        loader = tf.train.import_meta_graph(save_model_path + '.meta')\n",
    "        loader.restore(sess, save_model_path)\n",
    "\n",
    "        # Get Tensors from loaded model\n",
    "        loaded_x = loaded_graph.get_tensor_by_name('x:0')\n",
    "        loaded_y = loaded_graph.get_tensor_by_name('y:0')\n",
    "        loaded_keep_prob = loaded_graph.get_tensor_by_name('keep_prob:0')\n",
    "        loaded_logits = loaded_graph.get_tensor_by_name('logits:0')\n",
    "        loaded_acc = loaded_graph.get_tensor_by_name('accuracy:0')\n",
    "        \n",
    "        # Get accuracy in batches for memory limitations\n",
    "        test_batch_acc_total = 0\n",
    "        test_batch_count = 0\n",
    "        \n",
    "        for test_feature_batch, test_label_batch in helper.batch_features_labels(test_features, test_labels, batch_size):\n",
    "            test_batch_acc_total += sess.run(\n",
    "                loaded_acc,\n",
    "                feed_dict={loaded_x: test_feature_batch, loaded_y: test_label_batch, loaded_keep_prob: 1.0})\n",
    "            test_batch_count += 1\n",
    "\n",
    "        print('Testing Accuracy: {}\\n'.format(test_batch_acc_total/test_batch_count))\n",
    "\n",
    "        # Print Random Samples\n",
    "        random_test_features, random_test_labels = tuple(zip(*random.sample(list(zip(test_features, test_labels)), n_samples)))\n",
    "        random_test_predictions = sess.run(\n",
    "            tf.nn.top_k(tf.nn.softmax(loaded_logits), top_n_predictions),\n",
    "            feed_dict={loaded_x: random_test_features, loaded_y: random_test_labels, loaded_keep_prob: 1.0})\n",
    "        helper.display_image_predictions(random_test_features, random_test_labels, random_test_predictions)\n",
    "\n",
    "\n",
    "test_model()"
   ]
  },
  {
   "cell_type": "markdown",
   "metadata": {},
   "source": [
    "## Why 50-80% Accuracy?\n",
    "You might be wondering why you can't get an accuracy any higher. First things first, 50% isn't bad for a simple CNN.  Pure guessing would get you 10% accuracy. However, you might notice people are getting scores [well above 80%](http://rodrigob.github.io/are_we_there_yet/build/classification_datasets_results.html#43494641522d3130).  That's because we haven't taught you all there is to know about neural networks. We still need to cover a few more techniques.\n",
    "## Submitting This Project\n",
    "When submitting this project, make sure to run all the cells before saving the notebook.  Save the notebook file as \"dlnd_image_classification.ipynb\" and save it as a HTML file under \"File\" -> \"Download as\".  Include the \"helper.py\" and \"problem_unittests.py\" files in your submission."
   ]
  }
 ],
 "metadata": {
  "kernelspec": {
   "display_name": "Python 3",
   "language": "python",
   "name": "python3"
  },
  "language_info": {
   "codemirror_mode": {
    "name": "ipython",
    "version": 3
   },
   "file_extension": ".py",
   "mimetype": "text/x-python",
   "name": "python",
   "nbconvert_exporter": "python",
   "pygments_lexer": "ipython3",
   "version": "3.5.3"
  }
 },
 "nbformat": 4,
 "nbformat_minor": 1
}
